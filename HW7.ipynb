{
 "cells": [
  {
   "cell_type": "code",
   "execution_count": 1,
   "id": "ff08590a",
   "metadata": {},
   "outputs": [],
   "source": [
    "import numpy as np\n",
    "import re"
   ]
  },
  {
   "cell_type": "code",
   "execution_count": 2,
   "id": "6e1db2a2",
   "metadata": {},
   "outputs": [],
   "source": [
    "\n",
    "date = '''totwrk                       -0.169***         \n",
    "                              (0.018)          \n",
    "                                               \n",
    "age                           2.689*           \n",
    "                              (1.469)          \n",
    "                                               \n",
    "south                        101.568**         \n",
    "                             (41.837)          \n",
    "                                               \n",
    "male                         87.669**          \n",
    "                             (35.104)          \n",
    "                                               \n",
    "smsa                         -54.748*          \n",
    "                             (33.123)          \n",
    "                                               \n",
    "yngkid                        -13.962          \n",
    "                             (50.341)          \n",
    "                                               \n",
    "marr                          31.211           \n",
    "                             (42.233)          \n",
    "                                               \n",
    "Constant                    3450.913***        \n",
    "                             (80.726)          \n",
    "                                        '''"
   ]
  },
  {
   "cell_type": "code",
   "execution_count": 3,
   "id": "ff592aa8",
   "metadata": {},
   "outputs": [
    {
     "data": {
      "text/plain": [
       "['-0.169',\n",
       " '0.018',\n",
       " '2.689',\n",
       " '1.469',\n",
       " '101.568',\n",
       " '41.837',\n",
       " '87.669',\n",
       " '35.104',\n",
       " '-54.748',\n",
       " '33.123',\n",
       " '-13.962',\n",
       " '50.341',\n",
       " '31.211',\n",
       " '42.233',\n",
       " '3450.913',\n",
       " '80.726']"
      ]
     },
     "execution_count": 3,
     "metadata": {},
     "output_type": "execute_result"
    }
   ],
   "source": [
    "date_lst=re.findall(r'([-+]?\\d+.\\d+)',date)\n",
    "date_lst"
   ]
  },
  {
   "cell_type": "code",
   "execution_count": 4,
   "id": "8970d142",
   "metadata": {},
   "outputs": [
    {
     "data": {
      "text/plain": [
       "array([['-0.169', '0.018'],\n",
       "       ['2.689', '1.469'],\n",
       "       ['101.568', '41.837'],\n",
       "       ['87.669', '35.104'],\n",
       "       ['-54.748', '33.123'],\n",
       "       ['-13.962', '50.341'],\n",
       "       ['31.211', '42.233'],\n",
       "       ['3450.913', '80.726']], dtype='<U8')"
      ]
     },
     "execution_count": 4,
     "metadata": {},
     "output_type": "execute_result"
    }
   ],
   "source": [
    "beta = np.reshape(date_lst, (8,2))\n",
    "beta"
   ]
  },
  {
   "cell_type": "code",
   "execution_count": 5,
   "id": "ae690654",
   "metadata": {},
   "outputs": [
    {
     "data": {
      "text/plain": [
       "array(['-0.169', '2.689', '101.568', '87.669', '-54.748', '-13.962',\n",
       "       '31.211', '3450.913'], dtype='<U8')"
      ]
     },
     "execution_count": 5,
     "metadata": {},
     "output_type": "execute_result"
    }
   ],
   "source": [
    "beta[:,0]"
   ]
  },
  {
   "cell_type": "code",
   "execution_count": 6,
   "id": "2e02d53e",
   "metadata": {},
   "outputs": [
    {
     "data": {
      "text/plain": [
       "array([-1.690000e-01,  2.689000e+00,  1.015680e+02,  8.766900e+01,\n",
       "       -5.474800e+01, -1.396200e+01,  3.121100e+01,  3.450913e+03])"
      ]
     },
     "execution_count": 6,
     "metadata": {},
     "output_type": "execute_result"
    }
   ],
   "source": [
    "beta=beta[:,0].astype(float)\n",
    "beta"
   ]
  },
  {
   "cell_type": "code",
   "execution_count": 7,
   "id": "53c19038",
   "metadata": {},
   "outputs": [],
   "source": [
    "\n",
    "empiric='''  totwrk age south male smsa yngkid marr\n",
    "----------------------------------------\n",
    "1  2150  37    0    1    1     0     1  \n",
    "2  1950  28    1    1    0     1     0  \n",
    "3  2240  26    0    0    1     0     0  \n",
    "----------------------------------------'''"
   ]
  },
  {
   "cell_type": "code",
   "execution_count": 23,
   "id": "93b665f6",
   "metadata": {},
   "outputs": [
    {
     "data": {
      "text/plain": [
       "['1',\n",
       " '2150',\n",
       " '37',\n",
       " '0',\n",
       " '1',\n",
       " '1',\n",
       " '0',\n",
       " '1',\n",
       " '2',\n",
       " '1950',\n",
       " '28',\n",
       " '1',\n",
       " '1',\n",
       " '0',\n",
       " '1',\n",
       " '0',\n",
       " '3',\n",
       " '2240',\n",
       " '26',\n",
       " '0',\n",
       " '0',\n",
       " '1',\n",
       " '0',\n",
       " '0']"
      ]
     },
     "execution_count": 23,
     "metadata": {},
     "output_type": "execute_result"
    }
   ],
   "source": [
    "X=re.findall(r'([-+]?\\d+)',empiric)\n",
    "X"
   ]
  },
  {
   "cell_type": "code",
   "execution_count": 9,
   "id": "ba5f060e",
   "metadata": {},
   "outputs": [
    {
     "data": {
      "text/plain": [
       "array([['1', '2150', '37', '0', '1', '1', '0', '1'],\n",
       "       ['2', '1950', '28', '1', '1', '0', '1', '0'],\n",
       "       ['3', '2240', '26', '0', '0', '1', '0', '0']], dtype='<U4')"
      ]
     },
     "execution_count": 9,
     "metadata": {},
     "output_type": "execute_result"
    }
   ],
   "source": [
    "X = np.reshape(X,(3,8))\n",
    "X"
   ]
  },
  {
   "cell_type": "code",
   "execution_count": 10,
   "id": "5ae87704",
   "metadata": {},
   "outputs": [
    {
     "data": {
      "text/plain": [
       "array([['2150', '37', '0', '1', '1', '0', '1'],\n",
       "       ['1950', '28', '1', '1', '0', '1', '0'],\n",
       "       ['2240', '26', '0', '0', '1', '0', '0']], dtype='<U4')"
      ]
     },
     "execution_count": 10,
     "metadata": {},
     "output_type": "execute_result"
    }
   ],
   "source": [
    "X = np.delete (X,0,1)\n",
    "X"
   ]
  },
  {
   "cell_type": "code",
   "execution_count": 11,
   "id": "9dc426e1",
   "metadata": {},
   "outputs": [
    {
     "data": {
      "text/plain": [
       "array([['2150', '37', '0', '1', '1', '0', '1', '1.0'],\n",
       "       ['1950', '28', '1', '1', '0', '1', '0', '1.0'],\n",
       "       ['2240', '26', '0', '0', '1', '0', '0', '1.0']], dtype='<U32')"
      ]
     },
     "execution_count": 11,
     "metadata": {},
     "output_type": "execute_result"
    }
   ],
   "source": [
    "X=np.c_[X,np.ones(3)]\n",
    "X"
   ]
  },
  {
   "cell_type": "code",
   "execution_count": 12,
   "id": "5f137c5e",
   "metadata": {},
   "outputs": [],
   "source": [
    "beta=beta.astype(float)\n",
    "X=X.astype(float)"
   ]
  },
  {
   "cell_type": "code",
   "execution_count": 13,
   "id": "3f266b09",
   "metadata": {},
   "outputs": [
    {
     "data": {
      "text/plain": [
       "array([3251.188, 3371.93 , 3087.519])"
      ]
     },
     "execution_count": 13,
     "metadata": {},
     "output_type": "execute_result"
    }
   ],
   "source": [
    "X@beta"
   ]
  },
  {
   "cell_type": "markdown",
   "id": "743ab564",
   "metadata": {},
   "source": [
    "# 2 sleep equation #2"
   ]
  },
  {
   "cell_type": "code",
   "execution_count": 229,
   "id": "7fc003ba",
   "metadata": {},
   "outputs": [],
   "source": [
    "\n",
    "date = '''totwrk                       -0.167***         \n",
    "                              (0.018)          \n",
    "                                               \n",
    "age                           -6.255       \n",
    "                             (11.191) \n",
    "                            \n",
    "                                               \n",
    "I(age2)                        0.109  \n",
    "\n",
    "                              (0.134)          \n",
    "                                               \n",
    "south                       114.547***         \n",
    "                             (40.637)          \n",
    "                                               \n",
    "male                         90.457***         \n",
    "                             (34.257)          \n",
    "                                               \n",
    "Constant                    3613.995***        \n",
    "                             (218.433)'''"
   ]
  },
  {
   "cell_type": "code",
   "execution_count": 230,
   "id": "913c2f85",
   "metadata": {},
   "outputs": [
    {
     "data": {
      "text/plain": [
       "['-0.167',\n",
       " '0.018',\n",
       " '-6.255',\n",
       " '11.191',\n",
       " '0.109',\n",
       " '0.134',\n",
       " '114.547',\n",
       " '40.637',\n",
       " '90.457',\n",
       " '34.257',\n",
       " '3613.995',\n",
       " '218.433']"
      ]
     },
     "execution_count": 230,
     "metadata": {},
     "output_type": "execute_result"
    }
   ],
   "source": [
    "date_lst=re.findall(r'([-+]?\\d+.\\d+)',date)\n",
    "date_lst"
   ]
  },
  {
   "cell_type": "code",
   "execution_count": 231,
   "id": "dec3b025",
   "metadata": {},
   "outputs": [
    {
     "data": {
      "text/plain": [
       "array([['-0.167', '0.018'],\n",
       "       ['-6.255', '11.191'],\n",
       "       ['0.109', '0.134'],\n",
       "       ['114.547', '40.637'],\n",
       "       ['90.457', '34.257'],\n",
       "       ['3613.995', '218.433']], dtype='<U8')"
      ]
     },
     "execution_count": 231,
     "metadata": {},
     "output_type": "execute_result"
    }
   ],
   "source": [
    "beta = np.reshape(date_lst, (6,2))\n",
    "beta"
   ]
  },
  {
   "cell_type": "code",
   "execution_count": 232,
   "id": "b9e0593c",
   "metadata": {},
   "outputs": [
    {
     "data": {
      "text/plain": [
       "array(['-0.167', '-6.255', '0.109', '114.547', '90.457', '3613.995'],\n",
       "      dtype='<U8')"
      ]
     },
     "execution_count": 232,
     "metadata": {},
     "output_type": "execute_result"
    }
   ],
   "source": [
    "beta[:,0]\n"
   ]
  },
  {
   "cell_type": "code",
   "execution_count": 233,
   "id": "c9f0098f",
   "metadata": {},
   "outputs": [
    {
     "data": {
      "text/plain": [
       "array([-1.670000e-01, -6.255000e+00,  1.090000e-01,  1.145470e+02,\n",
       "        9.045700e+01,  3.613995e+03])"
      ]
     },
     "execution_count": 233,
     "metadata": {},
     "output_type": "execute_result"
    }
   ],
   "source": [
    "beta=beta[:,0].astype(float)\n",
    "beta"
   ]
  },
  {
   "cell_type": "code",
   "execution_count": 234,
   "id": "d88a5fda",
   "metadata": {},
   "outputs": [],
   "source": [
    "\n",
    "empiric='''   totwrk age south male\n",
    "-----------------------\n",
    "1  2160  32    1    0  \n",
    "2  1720  24    0    1  \n",
    "3  2390  44    0    1  '''"
   ]
  },
  {
   "cell_type": "code",
   "execution_count": 235,
   "id": "6456657b",
   "metadata": {},
   "outputs": [
    {
     "data": {
      "text/plain": [
       "['1',\n",
       " '2160',\n",
       " '32',\n",
       " '1',\n",
       " '0',\n",
       " '2',\n",
       " '1720',\n",
       " '24',\n",
       " '0',\n",
       " '1',\n",
       " '3',\n",
       " '2390',\n",
       " '44',\n",
       " '0',\n",
       " '1']"
      ]
     },
     "execution_count": 235,
     "metadata": {},
     "output_type": "execute_result"
    }
   ],
   "source": [
    "X=re.findall(r'([-+]?\\d+)',empiric)\n",
    "X"
   ]
  },
  {
   "cell_type": "code",
   "execution_count": 236,
   "id": "f5c45e8b",
   "metadata": {},
   "outputs": [
    {
     "data": {
      "text/plain": [
       "array([['1', '2160', '32', '1', '0'],\n",
       "       ['2', '1720', '24', '0', '1'],\n",
       "       ['3', '2390', '44', '0', '1']], dtype='<U4')"
      ]
     },
     "execution_count": 236,
     "metadata": {},
     "output_type": "execute_result"
    }
   ],
   "source": [
    "X = np.reshape(X,(3,5))\n",
    "X"
   ]
  },
  {
   "cell_type": "code",
   "execution_count": 237,
   "id": "98bf2a12",
   "metadata": {},
   "outputs": [
    {
     "data": {
      "text/plain": [
       "array([['2160', '32', '1', '0'],\n",
       "       ['1720', '24', '0', '1'],\n",
       "       ['2390', '44', '0', '1']], dtype='<U4')"
      ]
     },
     "execution_count": 237,
     "metadata": {},
     "output_type": "execute_result"
    }
   ],
   "source": [
    "X = np.delete (X,0,1)\n",
    "X\n"
   ]
  },
  {
   "cell_type": "code",
   "execution_count": 241,
   "id": "64751b98",
   "metadata": {},
   "outputs": [
    {
     "data": {
      "text/plain": [
       "array([[2.16e+03, 3.20e+01, 1.00e+00, 0.00e+00, 1.00e+00, 1.00e+00],\n",
       "       [1.72e+03, 2.40e+01, 0.00e+00, 1.00e+00, 1.00e+00, 1.00e+00],\n",
       "       [2.39e+03, 4.40e+01, 0.00e+00, 1.00e+00, 1.00e+00, 1.00e+00]])"
      ]
     },
     "execution_count": 241,
     "metadata": {},
     "output_type": "execute_result"
    }
   ],
   "source": [
    "X=np.c_[X,np.ones(3)]\n",
    "X"
   ]
  },
  {
   "cell_type": "code",
   "execution_count": 242,
   "id": "49ff7b49",
   "metadata": {},
   "outputs": [],
   "source": [
    "beta=beta.astype(float)\n",
    "X=X.astype(float)"
   ]
  },
  {
   "cell_type": "code",
   "execution_count": 243,
   "id": "817006d4",
   "metadata": {},
   "outputs": [
    {
     "data": {
      "text/plain": [
       "array([3143.681, 3381.639, 3144.649])"
      ]
     },
     "execution_count": 243,
     "metadata": {},
     "output_type": "execute_result"
    }
   ],
   "source": [
    "X@beta\n"
   ]
  },
  {
   "cell_type": "markdown",
   "id": "12d7c11e",
   "metadata": {},
   "source": [
    "# 3 wage equation #1"
   ]
  },
  {
   "cell_type": "code",
   "execution_count": 115,
   "id": "e71d79f2",
   "metadata": {},
   "outputs": [],
   "source": [
    "date = '''age                          0.021***          \n",
    "                              (0.004)          \n",
    "                                               \n",
    "IQ                           0.008***          \n",
    "                              (0.001)          \n",
    "                                               \n",
    "south                        -0.099***         \n",
    "                              (0.027)          \n",
    "                                               \n",
    "married                      0.201***          \n",
    "                              (0.040)          \n",
    "                                               \n",
    "urban                        0.175***          \n",
    "                              (0.028)          \n",
    "                                               \n",
    "Constant                     4.974***          \n",
    "                              (0.165)      '''"
   ]
  },
  {
   "cell_type": "code",
   "execution_count": 116,
   "id": "f8fa9d80",
   "metadata": {},
   "outputs": [
    {
     "data": {
      "text/plain": [
       "['0.021',\n",
       " '0.004',\n",
       " '0.008',\n",
       " '0.001',\n",
       " '-0.099',\n",
       " '0.027',\n",
       " '0.201',\n",
       " '0.040',\n",
       " '0.175',\n",
       " '0.028',\n",
       " '4.974',\n",
       " '0.165']"
      ]
     },
     "execution_count": 116,
     "metadata": {},
     "output_type": "execute_result"
    }
   ],
   "source": [
    "date_lst=re.findall(r'([-+]?\\d+.\\d+)',date)\n",
    "date_lst"
   ]
  },
  {
   "cell_type": "code",
   "execution_count": 117,
   "id": "8f735e37",
   "metadata": {},
   "outputs": [
    {
     "data": {
      "text/plain": [
       "array([['0.021', '0.004'],\n",
       "       ['0.008', '0.001'],\n",
       "       ['-0.099', '0.027'],\n",
       "       ['0.201', '0.040'],\n",
       "       ['0.175', '0.028'],\n",
       "       ['4.974', '0.165']], dtype='<U6')"
      ]
     },
     "execution_count": 117,
     "metadata": {},
     "output_type": "execute_result"
    }
   ],
   "source": [
    "beta = np.reshape(date_lst, (6,2))\n",
    "beta"
   ]
  },
  {
   "cell_type": "code",
   "execution_count": 118,
   "id": "b3190c6b",
   "metadata": {},
   "outputs": [
    {
     "data": {
      "text/plain": [
       "array(['0.021', '0.008', '-0.099', '0.201', '0.175', '4.974'], dtype='<U6')"
      ]
     },
     "execution_count": 118,
     "metadata": {},
     "output_type": "execute_result"
    }
   ],
   "source": [
    "beta[:,0]"
   ]
  },
  {
   "cell_type": "code",
   "execution_count": 119,
   "id": "d1c9a4d6",
   "metadata": {},
   "outputs": [
    {
     "data": {
      "text/plain": [
       "array([ 0.021,  0.008, -0.099,  0.201,  0.175,  4.974])"
      ]
     },
     "execution_count": 119,
     "metadata": {},
     "output_type": "execute_result"
    }
   ],
   "source": [
    "beta=beta[:,0].astype(float)\n",
    "beta"
   ]
  },
  {
   "cell_type": "code",
   "execution_count": 120,
   "id": "d0387efc",
   "metadata": {},
   "outputs": [],
   "source": [
    "\n",
    "empiric='''    age IQ  south married urban\n",
    "-----------------------------\n",
    "1 36  105   1      1      1  \n",
    "2 29  123   0      1      0  \n",
    "3 25  112   1      0      1  '''"
   ]
  },
  {
   "cell_type": "code",
   "execution_count": 121,
   "id": "a00ad39b",
   "metadata": {},
   "outputs": [
    {
     "data": {
      "text/plain": [
       "['1',\n",
       " '36',\n",
       " '105',\n",
       " '1',\n",
       " '1',\n",
       " '1',\n",
       " '2',\n",
       " '29',\n",
       " '123',\n",
       " '0',\n",
       " '1',\n",
       " '0',\n",
       " '3',\n",
       " '25',\n",
       " '112',\n",
       " '1',\n",
       " '0',\n",
       " '1']"
      ]
     },
     "execution_count": 121,
     "metadata": {},
     "output_type": "execute_result"
    }
   ],
   "source": [
    "X=re.findall(r'([-+]?\\d+)',empiric)\n",
    "X"
   ]
  },
  {
   "cell_type": "code",
   "execution_count": 123,
   "id": "53d1ee8b",
   "metadata": {},
   "outputs": [
    {
     "data": {
      "text/plain": [
       "array([['1', '36', '105', '1', '1', '1'],\n",
       "       ['2', '29', '123', '0', '1', '0'],\n",
       "       ['3', '25', '112', '1', '0', '1']], dtype='<U3')"
      ]
     },
     "execution_count": 123,
     "metadata": {},
     "output_type": "execute_result"
    }
   ],
   "source": [
    "X = np.reshape(X,(3,6))\n",
    "X"
   ]
  },
  {
   "cell_type": "code",
   "execution_count": 124,
   "id": "959a5b35",
   "metadata": {},
   "outputs": [
    {
     "data": {
      "text/plain": [
       "array([['36', '105', '1', '1', '1'],\n",
       "       ['29', '123', '0', '1', '0'],\n",
       "       ['25', '112', '1', '0', '1']], dtype='<U3')"
      ]
     },
     "execution_count": 124,
     "metadata": {},
     "output_type": "execute_result"
    }
   ],
   "source": [
    "X = np.delete (X,0,1)\n",
    "X"
   ]
  },
  {
   "cell_type": "code",
   "execution_count": 125,
   "id": "fd794ebb",
   "metadata": {},
   "outputs": [
    {
     "data": {
      "text/plain": [
       "array([['36', '105', '1', '1', '1', '1.0'],\n",
       "       ['29', '123', '0', '1', '0', '1.0'],\n",
       "       ['25', '112', '1', '0', '1', '1.0']], dtype='<U32')"
      ]
     },
     "execution_count": 125,
     "metadata": {},
     "output_type": "execute_result"
    }
   ],
   "source": [
    "X=np.c_[X,np.ones(3)]\n",
    "X"
   ]
  },
  {
   "cell_type": "code",
   "execution_count": 126,
   "id": "094f8c1e",
   "metadata": {},
   "outputs": [],
   "source": [
    "beta=beta.astype(float)\n",
    "X=X.astype(float)"
   ]
  },
  {
   "cell_type": "code",
   "execution_count": 127,
   "id": "ddad1e32",
   "metadata": {},
   "outputs": [
    {
     "data": {
      "text/plain": [
       "array([6.847, 6.768, 6.471])"
      ]
     },
     "execution_count": 127,
     "metadata": {},
     "output_type": "execute_result"
    }
   ],
   "source": [
    "X@beta"
   ]
  },
  {
   "cell_type": "markdown",
   "id": "ffcaa4d2",
   "metadata": {},
   "source": [
    "# 4 wage equation #2"
   ]
  },
  {
   "cell_type": "code",
   "execution_count": 130,
   "id": "5d84fba9",
   "metadata": {},
   "outputs": [],
   "source": [
    "date = '''exper                        0.037***          \n",
    "                              (0.006)          \n",
    "                                               \n",
    "I(exper2)                    -0.001***         \n",
    "                             (0.0001)          \n",
    "                                               \n",
    "female                       -0.363***         \n",
    "                              (0.040)          \n",
    "                                               \n",
    "married                      0.144***          \n",
    "                              (0.045)          \n",
    "                                               \n",
    "smsa                         0.273***          \n",
    "                              (0.044)          \n",
    "                                               \n",
    "Constant                     1.250***          \n",
    "                              (0.061)            '''"
   ]
  },
  {
   "cell_type": "code",
   "execution_count": 131,
   "id": "c17346e4",
   "metadata": {},
   "outputs": [
    {
     "data": {
      "text/plain": [
       "['0.037',\n",
       " '0.006',\n",
       " '-0.001',\n",
       " '0.0001',\n",
       " '-0.363',\n",
       " '0.040',\n",
       " '0.144',\n",
       " '0.045',\n",
       " '0.273',\n",
       " '0.044',\n",
       " '1.250',\n",
       " '0.061']"
      ]
     },
     "execution_count": 131,
     "metadata": {},
     "output_type": "execute_result"
    }
   ],
   "source": [
    "date_lst=re.findall(r'([-+]?\\d+.\\d+)',date)\n",
    "date_lst"
   ]
  },
  {
   "cell_type": "code",
   "execution_count": 132,
   "id": "6a7a890a",
   "metadata": {},
   "outputs": [
    {
     "data": {
      "text/plain": [
       "array([['0.037', '0.006'],\n",
       "       ['-0.001', '0.0001'],\n",
       "       ['-0.363', '0.040'],\n",
       "       ['0.144', '0.045'],\n",
       "       ['0.273', '0.044'],\n",
       "       ['1.250', '0.061']], dtype='<U6')"
      ]
     },
     "execution_count": 132,
     "metadata": {},
     "output_type": "execute_result"
    }
   ],
   "source": [
    "beta = np.reshape(date_lst, (6,2))\n",
    "beta"
   ]
  },
  {
   "cell_type": "code",
   "execution_count": 133,
   "id": "1994eb64",
   "metadata": {},
   "outputs": [
    {
     "data": {
      "text/plain": [
       "array(['0.037', '-0.001', '-0.363', '0.144', '0.273', '1.250'],\n",
       "      dtype='<U6')"
      ]
     },
     "execution_count": 133,
     "metadata": {},
     "output_type": "execute_result"
    }
   ],
   "source": [
    "beta[:,0]"
   ]
  },
  {
   "cell_type": "code",
   "execution_count": 134,
   "id": "e112c7cd",
   "metadata": {},
   "outputs": [
    {
     "data": {
      "text/plain": [
       "array([ 3.70e-02, -1.00e-03, -3.63e-01,  1.44e-01,  2.73e-01,  1.25e+00])"
      ]
     },
     "execution_count": 134,
     "metadata": {},
     "output_type": "execute_result"
    }
   ],
   "source": [
    "beta=beta[:,0].astype(float)\n",
    "beta"
   ]
  },
  {
   "cell_type": "code",
   "execution_count": 135,
   "id": "47243d77",
   "metadata": {},
   "outputs": [],
   "source": [
    "\n",
    "empiric='''     exper female married smsa\n",
    "---------------------------\n",
    "1   5     1       1     1  \n",
    "2  26     0       0     1  \n",
    "3  38     1       1     0  '''"
   ]
  },
  {
   "cell_type": "code",
   "execution_count": 136,
   "id": "f770d4f3",
   "metadata": {},
   "outputs": [
    {
     "data": {
      "text/plain": [
       "['1', '5', '1', '1', '1', '2', '26', '0', '0', '1', '3', '38', '1', '1', '0']"
      ]
     },
     "execution_count": 136,
     "metadata": {},
     "output_type": "execute_result"
    }
   ],
   "source": [
    "X=re.findall(r'([-+]?\\d+)',empiric)\n",
    "X"
   ]
  },
  {
   "cell_type": "code",
   "execution_count": 137,
   "id": "61d0a855",
   "metadata": {},
   "outputs": [
    {
     "data": {
      "text/plain": [
       "array([['1', '5', '1', '1', '1'],\n",
       "       ['2', '26', '0', '0', '1'],\n",
       "       ['3', '38', '1', '1', '0']], dtype='<U2')"
      ]
     },
     "execution_count": 137,
     "metadata": {},
     "output_type": "execute_result"
    }
   ],
   "source": [
    "X = np.reshape(X,(3,5))\n",
    "X"
   ]
  },
  {
   "cell_type": "code",
   "execution_count": 138,
   "id": "6c55a0b2",
   "metadata": {},
   "outputs": [
    {
     "data": {
      "text/plain": [
       "array([['5', '1', '1', '1'],\n",
       "       ['26', '0', '0', '1'],\n",
       "       ['38', '1', '1', '0']], dtype='<U2')"
      ]
     },
     "execution_count": 138,
     "metadata": {},
     "output_type": "execute_result"
    }
   ],
   "source": [
    "X = np.delete (X,0,1)\n",
    "X"
   ]
  },
  {
   "cell_type": "code",
   "execution_count": 143,
   "id": "e61176ca",
   "metadata": {},
   "outputs": [
    {
     "data": {
      "text/plain": [
       "array([[ 5.,  1.,  1.,  1.,  1.,  1.],\n",
       "       [26.,  0.,  0.,  1.,  1.,  1.],\n",
       "       [38.,  1.,  1.,  0.,  1.,  1.]])"
      ]
     },
     "execution_count": 143,
     "metadata": {},
     "output_type": "execute_result"
    }
   ],
   "source": [
    "X=np.c_[X,np.ones(3)]\n",
    "X"
   ]
  },
  {
   "cell_type": "code",
   "execution_count": 144,
   "id": "99d86116",
   "metadata": {},
   "outputs": [],
   "source": [
    "beta=beta.astype(float)\n",
    "X=X.astype(float)"
   ]
  },
  {
   "cell_type": "code",
   "execution_count": 145,
   "id": "df95a960",
   "metadata": {},
   "outputs": [
    {
     "data": {
      "text/plain": [
       "array([1.488, 2.629, 2.565])"
      ]
     },
     "execution_count": 145,
     "metadata": {},
     "output_type": "execute_result"
    }
   ],
   "source": [
    "X@beta"
   ]
  },
  {
   "cell_type": "markdown",
   "id": "21d70156",
   "metadata": {},
   "source": [
    "# 5 output equation #1"
   ]
  },
  {
   "cell_type": "code",
   "execution_count": 273,
   "id": "21eb94c0",
   "metadata": {},
   "outputs": [],
   "source": [
    "date = '''log(capital)                 0.208***          \n",
    "                              (0.017)          \n",
    "                                               \n",
    "log(labour)                  0.715***          \n",
    "                              (0.023)          \n",
    "                                               \n",
    "Constant                     -1.711***         \n",
    "                              (0.097)     '''"
   ]
  },
  {
   "cell_type": "code",
   "execution_count": 274,
   "id": "7cdf257f",
   "metadata": {},
   "outputs": [
    {
     "data": {
      "text/plain": [
       "['0.208', '0.017', '0.715', '0.023', '-1.711', '0.097']"
      ]
     },
     "execution_count": 274,
     "metadata": {},
     "output_type": "execute_result"
    }
   ],
   "source": [
    "date_lst=re.findall(r'([-+]?\\d+.\\d+)',date)\n",
    "date_lst"
   ]
  },
  {
   "cell_type": "code",
   "execution_count": 275,
   "id": "8d4efeca",
   "metadata": {},
   "outputs": [
    {
     "data": {
      "text/plain": [
       "array([['0.208', '0.017'],\n",
       "       ['0.715', '0.023'],\n",
       "       ['-1.711', '0.097']], dtype='<U6')"
      ]
     },
     "execution_count": 275,
     "metadata": {},
     "output_type": "execute_result"
    }
   ],
   "source": [
    "beta = np.reshape(date_lst, (3,2))\n",
    "beta"
   ]
  },
  {
   "cell_type": "code",
   "execution_count": 276,
   "id": "d3177c4d",
   "metadata": {},
   "outputs": [
    {
     "data": {
      "text/plain": [
       "array(['0.208', '0.715', '-1.711'], dtype='<U6')"
      ]
     },
     "execution_count": 276,
     "metadata": {},
     "output_type": "execute_result"
    }
   ],
   "source": [
    "beta[:,0]"
   ]
  },
  {
   "cell_type": "code",
   "execution_count": 277,
   "id": "3ee09869",
   "metadata": {},
   "outputs": [
    {
     "data": {
      "text/plain": [
       "array([ 0.208,  0.715, -1.711])"
      ]
     },
     "execution_count": 277,
     "metadata": {},
     "output_type": "execute_result"
    }
   ],
   "source": [
    "beta=beta[:,0].astype(float)\n",
    "beta"
   ]
  },
  {
   "cell_type": "code",
   "execution_count": 278,
   "id": "15201254",
   "metadata": {},
   "outputs": [],
   "source": [
    "empiric='''   capital labour\n",
    "----------------\n",
    "1  2.970    85  \n",
    "2 10.450    60  \n",
    "3  3.850   105 '''"
   ]
  },
  {
   "cell_type": "code",
   "execution_count": 279,
   "id": "44257012",
   "metadata": {},
   "outputs": [
    {
     "data": {
      "text/plain": [
       "['1', '2', '970', '85', '2', '10', '450', '60', '3', '3', '850', '105']"
      ]
     },
     "execution_count": 279,
     "metadata": {},
     "output_type": "execute_result"
    }
   ],
   "source": [
    "X=re.findall(r'([-+]?\\d+)',empiric)\n",
    "X"
   ]
  },
  {
   "cell_type": "code",
   "execution_count": 280,
   "id": "2e999542",
   "metadata": {},
   "outputs": [
    {
     "data": {
      "text/plain": [
       "array([['1', '2', '970', '85'],\n",
       "       ['2', '10', '450', '60'],\n",
       "       ['3', '3', '850', '105']], dtype='<U3')"
      ]
     },
     "execution_count": 280,
     "metadata": {},
     "output_type": "execute_result"
    }
   ],
   "source": [
    "X = np.reshape(X,(3,4))\n",
    "X"
   ]
  },
  {
   "cell_type": "code",
   "execution_count": 295,
   "id": "343c0ce9",
   "metadata": {},
   "outputs": [
    {
     "data": {
      "text/plain": [
       "array([[970.,  85.,   1.],\n",
       "       [450.,  60.,   1.],\n",
       "       [850., 105.,   1.]])"
      ]
     },
     "execution_count": 295,
     "metadata": {},
     "output_type": "execute_result"
    }
   ],
   "source": [
    "X = np.delete (X,0,1)\n",
    "X"
   ]
  },
  {
   "cell_type": "code",
   "execution_count": 299,
   "id": "b48b90f0",
   "metadata": {},
   "outputs": [
    {
     "data": {
      "text/plain": [
       "array([[970.,  85.,   1.,   1.],\n",
       "       [450.,  60.,   1.,   1.],\n",
       "       [850., 105.,   1.,   1.]])"
      ]
     },
     "execution_count": 299,
     "metadata": {},
     "output_type": "execute_result"
    }
   ],
   "source": [
    "X=np.c_[X,np.ones(3)]\n",
    "X"
   ]
  },
  {
   "cell_type": "code",
   "execution_count": 297,
   "id": "7ed91402",
   "metadata": {},
   "outputs": [],
   "source": [
    "beta=beta.astype(float)\n",
    "X=X.astype(float)"
   ]
  },
  {
   "cell_type": "code",
   "execution_count": 298,
   "id": "87c9c620",
   "metadata": {},
   "outputs": [
    {
     "data": {
      "text/plain": [
       "array([260.824, 134.789, 250.164])"
      ]
     },
     "execution_count": 298,
     "metadata": {},
     "output_type": "execute_result"
    }
   ],
   "source": [
    "X@beta"
   ]
  },
  {
   "cell_type": "markdown",
   "id": "b5c371ef",
   "metadata": {},
   "source": [
    "# 6 output equation #2"
   ]
  },
  {
   "cell_type": "code",
   "execution_count": 300,
   "id": "5f281ad0",
   "metadata": {},
   "outputs": [],
   "source": [
    "date = '''log(capital)                 0.183***          \n",
    "                              (0.017)          \n",
    "                                               \n",
    "log(labour)                  0.515***          \n",
    "                              (0.083)          \n",
    "                                               \n",
    "I(log(capital)2)             0.023***          \n",
    "                              (0.005)          \n",
    "                                               \n",
    "I(log(labour)2)               0.020**          \n",
    "                              (0.010)          \n",
    "                                               \n",
    "Constant                     -1.304***         \n",
    "                              (0.189)  '''"
   ]
  },
  {
   "cell_type": "code",
   "execution_count": 301,
   "id": "a6118907",
   "metadata": {},
   "outputs": [
    {
     "data": {
      "text/plain": [
       "['0.183',\n",
       " '0.017',\n",
       " '0.515',\n",
       " '0.083',\n",
       " '0.023',\n",
       " '0.005',\n",
       " '0.020',\n",
       " '0.010',\n",
       " '-1.304',\n",
       " '0.189']"
      ]
     },
     "execution_count": 301,
     "metadata": {},
     "output_type": "execute_result"
    }
   ],
   "source": [
    "date_lst=re.findall(r'([-+]?\\d+.\\d+)',date)\n",
    "date_lst"
   ]
  },
  {
   "cell_type": "code",
   "execution_count": 303,
   "id": "3f14b631",
   "metadata": {},
   "outputs": [
    {
     "data": {
      "text/plain": [
       "array([['0.183', '0.017'],\n",
       "       ['0.515', '0.083'],\n",
       "       ['0.023', '0.005'],\n",
       "       ['0.020', '0.010'],\n",
       "       ['-1.304', '0.189']], dtype='<U6')"
      ]
     },
     "execution_count": 303,
     "metadata": {},
     "output_type": "execute_result"
    }
   ],
   "source": [
    "beta = np.reshape(date_lst, (5,2))\n",
    "beta"
   ]
  },
  {
   "cell_type": "code",
   "execution_count": 304,
   "id": "6207e83a",
   "metadata": {},
   "outputs": [
    {
     "data": {
      "text/plain": [
       "array(['0.183', '0.515', '0.023', '0.020', '-1.304'], dtype='<U6')"
      ]
     },
     "execution_count": 304,
     "metadata": {},
     "output_type": "execute_result"
    }
   ],
   "source": [
    "beta[:,0]"
   ]
  },
  {
   "cell_type": "code",
   "execution_count": 305,
   "id": "0a862050",
   "metadata": {},
   "outputs": [
    {
     "data": {
      "text/plain": [
       "array([ 0.183,  0.515,  0.023,  0.02 , -1.304])"
      ]
     },
     "execution_count": 305,
     "metadata": {},
     "output_type": "execute_result"
    }
   ],
   "source": [
    "beta=beta[:,0].astype(float)\n",
    "beta"
   ]
  },
  {
   "cell_type": "code",
   "execution_count": 306,
   "id": "0c32f086",
   "metadata": {},
   "outputs": [],
   "source": [
    "empiric='''    capital labour\n",
    "----------------\n",
    "1 22.140   407  \n",
    "2  7.320   197  \n",
    "3  0.670    31  '''"
   ]
  },
  {
   "cell_type": "code",
   "execution_count": 333,
   "id": "2943afc2",
   "metadata": {},
   "outputs": [
    {
     "data": {
      "text/plain": [
       "['1', '22', '140', '407', '2', '7', '320', '197', '3', '0', '670', '31']"
      ]
     },
     "execution_count": 333,
     "metadata": {},
     "output_type": "execute_result"
    }
   ],
   "source": [
    "X=re.findall(r'([-+]?\\d+)',empiric)\n",
    "X"
   ]
  },
  {
   "cell_type": "code",
   "execution_count": 334,
   "id": "4b763c04",
   "metadata": {},
   "outputs": [
    {
     "data": {
      "text/plain": [
       "array([['1', '22', '140', '407'],\n",
       "       ['2', '7', '320', '197'],\n",
       "       ['3', '0', '670', '31']], dtype='<U3')"
      ]
     },
     "execution_count": 334,
     "metadata": {},
     "output_type": "execute_result"
    }
   ],
   "source": [
    "X = np.reshape(X,(3,4))\n",
    "X"
   ]
  },
  {
   "cell_type": "code",
   "execution_count": 335,
   "id": "9c7299e9",
   "metadata": {},
   "outputs": [
    {
     "data": {
      "text/plain": [
       "array([['22', '140', '407'],\n",
       "       ['7', '320', '197'],\n",
       "       ['0', '670', '31']], dtype='<U3')"
      ]
     },
     "execution_count": 335,
     "metadata": {},
     "output_type": "execute_result"
    }
   ],
   "source": [
    "X = np.delete (X,0,1)\n",
    "X"
   ]
  },
  {
   "cell_type": "code",
   "execution_count": 342,
   "id": "bc61bf69",
   "metadata": {},
   "outputs": [
    {
     "data": {
      "text/plain": [
       "array([[ 22., 140., 407.,   1.,   1.],\n",
       "       [  7., 320., 197.,   1.,   1.],\n",
       "       [  0., 670.,  31.,   1.,   1.]])"
      ]
     },
     "execution_count": 342,
     "metadata": {},
     "output_type": "execute_result"
    }
   ],
   "source": [
    "X=np.c_[X,np.ones(3)]\n",
    "X"
   ]
  },
  {
   "cell_type": "code",
   "execution_count": 343,
   "id": "1da92797",
   "metadata": {},
   "outputs": [],
   "source": [
    "beta=beta.astype(float)\n",
    "X=X.astype(float)"
   ]
  },
  {
   "cell_type": "code",
   "execution_count": 344,
   "id": "1eb27b58",
   "metadata": {},
   "outputs": [
    {
     "data": {
      "text/plain": [
       "array([ 84.203, 169.328, 344.479])"
      ]
     },
     "execution_count": 344,
     "metadata": {},
     "output_type": "execute_result"
    }
   ],
   "source": [
    "X@beta"
   ]
  },
  {
   "cell_type": "code",
   "execution_count": null,
   "id": "8598e89b",
   "metadata": {},
   "outputs": [],
   "source": []
  }
 ],
 "metadata": {
  "kernelspec": {
   "display_name": "Python 3 (ipykernel)",
   "language": "python",
   "name": "python3"
  },
  "language_info": {
   "codemirror_mode": {
    "name": "ipython",
    "version": 3
   },
   "file_extension": ".py",
   "mimetype": "text/x-python",
   "name": "python",
   "nbconvert_exporter": "python",
   "pygments_lexer": "ipython3",
   "version": "3.9.13"
  }
 },
 "nbformat": 4,
 "nbformat_minor": 5
}
