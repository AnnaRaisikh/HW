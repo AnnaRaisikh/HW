{
 "cells": [
  {
   "cell_type": "code",
   "execution_count": 1,
   "id": "738b52ae",
   "metadata": {},
   "outputs": [],
   "source": [
    "import pandas as pd\n",
    "import numpy as np\n",
    "import statsmodels.api as sm \n",
    "import statsmodels.formula.api as smf\n",
    "from statsmodels.iolib.summary2 import summary_params # вывод результатов тестирования\n",
    "from statsmodels.iolib.summary2 import summary_col # вывод результатов тестирования\n",
    "from statsmodels.stats.outliers_influence import variance_inflation_factor # VIF\n",
    "import scipy\n",
    "import matplotlib.pyplot as plt\n",
    "import seaborn as sns"
   ]
  },
  {
   "cell_type": "code",
   "execution_count": 2,
   "id": "566de7ad",
   "metadata": {},
   "outputs": [
    {
     "data": {
      "text/plain": [
       "(706, 34)"
      ]
     },
     "execution_count": 2,
     "metadata": {},
     "output_type": "execute_result"
    }
   ],
   "source": [
    "data_sleep = pd.read_csv('https://raw.githubusercontent.com/artamonoff/Econometrica/master/python-notebooks/data-csv/sleep75.csv')\n",
    "data_sleep.shape"
   ]
  },
  {
   "cell_type": "code",
   "execution_count": 3,
   "id": "d8477f61",
   "metadata": {},
   "outputs": [],
   "source": [
    "Sleep_eq11 = smf.ols(formula = 'sleep~I(totwrk/100)+I(totwrk**2/10000)+age+smsa+male+south', data = data_sleep).fit()"
   ]
  },
  {
   "cell_type": "code",
   "execution_count": 4,
   "id": "02758a7d",
   "metadata": {},
   "outputs": [],
   "source": [
    "model_11 = smf.ols(formula = 'I(totwrk/100)~I(totwrk**2/10000)+age+smsa+male+south', data = data_sleep).fit()\n"
   ]
  },
  {
   "cell_type": "code",
   "execution_count": 5,
   "id": "fef56c8e",
   "metadata": {},
   "outputs": [],
   "source": [
    "model_12 = smf.ols(formula = 'I(totwrk**2/10000)~I(totwrk/100)+age+smsa+male+south', data = data_sleep).fit()"
   ]
  },
  {
   "cell_type": "code",
   "execution_count": 6,
   "id": "d09b505c",
   "metadata": {},
   "outputs": [],
   "source": [
    "model_13 = smf.ols(formula = 'male~I(totwrk/100)+I(totwrk**2/10000)+age+smsa+south', data = data_sleep).fit()"
   ]
  },
  {
   "cell_type": "code",
   "execution_count": 7,
   "id": "d78ed982",
   "metadata": {},
   "outputs": [
    {
     "name": "stdout",
     "output_type": "stream",
     "text": [
      "\n",
      "======================================================================\n",
      "                       I(totwrk / 100) I(totwrk ** 2 / 10000)   male  \n",
      "----------------------------------------------------------------------\n",
      "I(totwrk ** 2 / 10000) 0.021***                               -0.000  \n",
      "                       (0.000)                                (0.000) \n",
      "I(totwrk / 100)                        40.125***              0.021***\n",
      "                                       (0.609)                (0.005) \n",
      "Intercept              9.003***        -296.595***            0.057   \n",
      "                       (0.498)         (23.551)               (0.085) \n",
      "R-squared              0.882           0.879                  0.147   \n",
      "R-squared Adj.         0.881           0.878                  0.141   \n",
      "age                    -0.008          0.038                  0.002   \n",
      "                       (0.011)         (0.470)                (0.002) \n",
      "male                   1.071***        -2.883                         \n",
      "                       (0.265)         (11.610)                       \n",
      "smsa                   0.357           -19.824*               0.008   \n",
      "                       (0.259)         (11.176)               (0.036) \n",
      "south                  0.989***        -37.165***             -0.066  \n",
      "                       (0.327)         (14.148)               (0.046) \n",
      "======================================================================\n",
      "Standard errors in parentheses.\n",
      "* p<.1, ** p<.05, ***p<.01\n"
     ]
    }
   ],
   "source": [
    "print(summary_col([model_11, model_12, model_13], stars=True, float_format='%.3f'))"
   ]
  },
  {
   "cell_type": "code",
   "execution_count": 9,
   "id": "f9988a51",
   "metadata": {},
   "outputs": [
    {
     "data": {
      "text/plain": [
       "8.48"
      ]
     },
     "execution_count": 9,
     "metadata": {},
     "output_type": "execute_result"
    }
   ],
   "source": [
    "VIF_1 = 1/(1 - model_11.rsquared)\n",
    "VIF_1.round(2)"
   ]
  },
  {
   "cell_type": "code",
   "execution_count": 10,
   "id": "13b43e01",
   "metadata": {},
   "outputs": [
    {
     "data": {
      "text/plain": [
       "8.28"
      ]
     },
     "execution_count": 10,
     "metadata": {},
     "output_type": "execute_result"
    }
   ],
   "source": [
    "VIF_2 = 1/(1 - model_12.rsquared)\n",
    "VIF_2.round(2)"
   ]
  },
  {
   "cell_type": "code",
   "execution_count": 11,
   "id": "cae523fc",
   "metadata": {},
   "outputs": [
    {
     "data": {
      "text/plain": [
       "1.17"
      ]
     },
     "execution_count": 11,
     "metadata": {},
     "output_type": "execute_result"
    }
   ],
   "source": [
    "VIF_3 = 1/(1 - model_13.rsquared)\n",
    "VIF_3.round(2)"
   ]
  },
  {
   "cell_type": "markdown",
   "id": "89dc4e6e",
   "metadata": {},
   "source": [
    "# 1.2 Последствия"
   ]
  },
  {
   "cell_type": "code",
   "execution_count": 12,
   "id": "efc21485",
   "metadata": {},
   "outputs": [
    {
     "data": {
      "text/plain": [
       "['Intercept',\n",
       " 'I(totwrk / 100)',\n",
       " 'I(totwrk ** 2 / 10000)',\n",
       " 'age',\n",
       " 'smsa',\n",
       " 'male',\n",
       " 'south']"
      ]
     },
     "execution_count": 12,
     "metadata": {},
     "output_type": "execute_result"
    }
   ],
   "source": [
    "Sleep_eq11.model.exog_names"
   ]
  },
  {
   "cell_type": "code",
   "execution_count": 13,
   "id": "069d2dc4",
   "metadata": {},
   "outputs": [
    {
     "name": "stdout",
     "output_type": "stream",
     "text": [
      "VIF for exog I(totwrk / 100) :  8.48\n"
     ]
    }
   ],
   "source": [
    "VIF_1 = variance_inflation_factor(exog = Sleep_eq11.model.exog, exog_idx = 1)\n",
    "print('VIF for exog', Sleep_eq11.model.exog_names[1], ': ', VIF_1.round(2))"
   ]
  },
  {
   "cell_type": "code",
   "execution_count": 14,
   "id": "5a66b928",
   "metadata": {},
   "outputs": [
    {
     "name": "stdout",
     "output_type": "stream",
     "text": [
      "VIF for exog I(totwrk ** 2 / 10000) :  8.28\n"
     ]
    }
   ],
   "source": [
    "VIF_2 = variance_inflation_factor(exog = Sleep_eq11.model.exog, exog_idx = 2)\n",
    "print('VIF for exog', Sleep_eq11.model.exog_names[2], ': ', VIF_2.round(2))"
   ]
  },
  {
   "cell_type": "code",
   "execution_count": 15,
   "id": "01142436",
   "metadata": {},
   "outputs": [
    {
     "name": "stdout",
     "output_type": "stream",
     "text": [
      "VIF for exog male :  1.17\n"
     ]
    }
   ],
   "source": [
    "VIF_3 = variance_inflation_factor(exog = Sleep_eq11.model.exog, exog_idx = 5)\n",
    "print('VIF for exog', Sleep_eq11.model.exog_names[5], ': ', VIF_3.round(2))"
   ]
  },
  {
   "cell_type": "code",
   "execution_count": 16,
   "id": "0f03305e",
   "metadata": {},
   "outputs": [],
   "source": [
    "Sleep_eq12 = smf.ols(formula = 'sleep~I(totwrk/100)+I(totwrk**2/10000)+age+smsa+male', data = data_sleep).fit()"
   ]
  },
  {
   "cell_type": "code",
   "execution_count": 17,
   "id": "527b1831",
   "metadata": {},
   "outputs": [
    {
     "name": "stdout",
     "output_type": "stream",
     "text": [
      "\n",
      "==================================\n",
      "                          sleep   \n",
      "----------------------------------\n",
      "Intercept              3428.805***\n",
      "                       (76.655)   \n",
      "I(totwrk / 100)        -8.195*    \n",
      "                       (4.789)    \n",
      "I(totwrk ** 2 / 10000) -0.214*    \n",
      "                       (0.111)    \n",
      "age                    2.817**    \n",
      "                       (1.387)    \n",
      "smsa                   -78.049**  \n",
      "                       (32.072)   \n",
      "male                   86.639**   \n",
      "                       (34.200)   \n",
      "R-squared              0.128      \n",
      "R-squared Adj.         0.122      \n",
      "No. Observations       706        \n",
      "Residual Std. Error    416.457    \n",
      "F-statistic            20.566     \n",
      "Prob (F-statistic)     0.000      \n",
      "==================================\n",
      "Standard errors in parentheses.\n",
      "* p<.1, ** p<.05, ***p<.01\n"
     ]
    }
   ],
   "source": [
    "\n",
    "info_dict = {'No. Observations': lambda x: '{0:d}'.format(int(x.nobs)), \n",
    "             'Residual Std. Error': lambda x: \"%#8.3f\" % x.mse_resid**0.5,\n",
    "             'F-statistic': lambda x: '{:.3f}'.format(x.fvalue), \n",
    "             'Prob (F-statistic)': lambda x: '{:.3f}'.format(x.f_pvalue)\n",
    "             }\n",
    "print(summary_col(Sleep_eq12, float_format='%.3f', stars=True, info_dict = info_dict))"
   ]
  },
  {
   "cell_type": "code",
   "execution_count": 18,
   "id": "a9846b86",
   "metadata": {},
   "outputs": [
    {
     "data": {
      "text/html": [
       "<div>\n",
       "<style scoped>\n",
       "    .dataframe tbody tr th:only-of-type {\n",
       "        vertical-align: middle;\n",
       "    }\n",
       "\n",
       "    .dataframe tbody tr th {\n",
       "        vertical-align: top;\n",
       "    }\n",
       "\n",
       "    .dataframe thead th {\n",
       "        text-align: right;\n",
       "    }\n",
       "</style>\n",
       "<table border=\"1\" class=\"dataframe\">\n",
       "  <thead>\n",
       "    <tr style=\"text-align: right;\">\n",
       "      <th></th>\n",
       "      <th>Coef.</th>\n",
       "      <th>Std.Err.</th>\n",
       "      <th>t</th>\n",
       "      <th>P&gt;|t|</th>\n",
       "      <th>[0.025</th>\n",
       "      <th>0.975]</th>\n",
       "      <th>significance</th>\n",
       "    </tr>\n",
       "  </thead>\n",
       "  <tbody>\n",
       "    <tr>\n",
       "      <th>Intercept</th>\n",
       "      <td>3428.804849</td>\n",
       "      <td>76.655048</td>\n",
       "      <td>44.730320</td>\n",
       "      <td>2.023213e-207</td>\n",
       "      <td>3278.303493</td>\n",
       "      <td>3579.306204</td>\n",
       "      <td>Значим</td>\n",
       "    </tr>\n",
       "    <tr>\n",
       "      <th>I(totwrk / 100)</th>\n",
       "      <td>-8.195316</td>\n",
       "      <td>4.789446</td>\n",
       "      <td>-1.711120</td>\n",
       "      <td>8.750201e-02</td>\n",
       "      <td>-17.598716</td>\n",
       "      <td>1.208085</td>\n",
       "      <td>Незначим</td>\n",
       "    </tr>\n",
       "    <tr>\n",
       "      <th>I(totwrk ** 2 / 10000)</th>\n",
       "      <td>-0.214156</td>\n",
       "      <td>0.110951</td>\n",
       "      <td>-1.930194</td>\n",
       "      <td>5.398646e-02</td>\n",
       "      <td>-0.431992</td>\n",
       "      <td>0.003680</td>\n",
       "      <td>Незначим</td>\n",
       "    </tr>\n",
       "    <tr>\n",
       "      <th>age</th>\n",
       "      <td>2.816697</td>\n",
       "      <td>1.386926</td>\n",
       "      <td>2.030892</td>\n",
       "      <td>4.264340e-02</td>\n",
       "      <td>0.093663</td>\n",
       "      <td>5.539731</td>\n",
       "      <td>Значим</td>\n",
       "    </tr>\n",
       "    <tr>\n",
       "      <th>smsa</th>\n",
       "      <td>-78.049460</td>\n",
       "      <td>32.072351</td>\n",
       "      <td>-2.433543</td>\n",
       "      <td>1.520105e-02</td>\n",
       "      <td>-141.018991</td>\n",
       "      <td>-15.079930</td>\n",
       "      <td>Значим</td>\n",
       "    </tr>\n",
       "    <tr>\n",
       "      <th>male</th>\n",
       "      <td>86.638759</td>\n",
       "      <td>34.199952</td>\n",
       "      <td>2.533301</td>\n",
       "      <td>1.151657e-02</td>\n",
       "      <td>19.491986</td>\n",
       "      <td>153.785532</td>\n",
       "      <td>Значим</td>\n",
       "    </tr>\n",
       "  </tbody>\n",
       "</table>\n",
       "</div>"
      ],
      "text/plain": [
       "                              Coef.   Std.Err.          t          P>|t|  \\\n",
       "Intercept               3428.804849  76.655048  44.730320  2.023213e-207   \n",
       "I(totwrk / 100)           -8.195316   4.789446  -1.711120   8.750201e-02   \n",
       "I(totwrk ** 2 / 10000)    -0.214156   0.110951  -1.930194   5.398646e-02   \n",
       "age                        2.816697   1.386926   2.030892   4.264340e-02   \n",
       "smsa                     -78.049460  32.072351  -2.433543   1.520105e-02   \n",
       "male                      86.638759  34.199952   2.533301   1.151657e-02   \n",
       "\n",
       "                             [0.025       0.975] significance  \n",
       "Intercept               3278.303493  3579.306204       Значим  \n",
       "I(totwrk / 100)          -17.598716     1.208085     Незначим  \n",
       "I(totwrk ** 2 / 10000)    -0.431992     0.003680     Незначим  \n",
       "age                        0.093663     5.539731       Значим  \n",
       "smsa                    -141.018991   -15.079930       Значим  \n",
       "male                      19.491986   153.785532       Значим  "
      ]
     },
     "execution_count": 18,
     "metadata": {},
     "output_type": "execute_result"
    }
   ],
   "source": [
    "df = summary_params(Sleep_eq12, alpha=0.05)\n",
    "df['significance'] = df.apply(lambda x: 'Значим' if x['P>|t|']<0.05 else 'Незначим', axis=1)\n",
    "df"
   ]
  },
  {
   "cell_type": "code",
   "execution_count": 19,
   "id": "f2f163b1",
   "metadata": {},
   "outputs": [
    {
     "data": {
      "text/plain": [
       "<class 'statsmodels.stats.contrast.ContrastResults'>\n",
       "<F test: F=45.61921736003963, p=2.380853704322082e-19, df_denom=700, df_num=2>"
      ]
     },
     "execution_count": 19,
     "metadata": {},
     "output_type": "execute_result"
    }
   ],
   "source": [
    "Sleep_eq12.f_test('I(totwrk / 100) = I(totwrk ** 2 / 10000)=0')"
   ]
  },
  {
   "cell_type": "code",
   "execution_count": 20,
   "id": "7f480258",
   "metadata": {},
   "outputs": [
    {
     "data": {
      "text/plain": [
       "3.01"
      ]
     },
     "execution_count": 20,
     "metadata": {},
     "output_type": "execute_result"
    }
   ],
   "source": [
    "alpha=0.05\n",
    "scipy.stats.f.ppf(1-alpha, 2, 700).round(2)"
   ]
  },
  {
   "cell_type": "code",
   "execution_count": 21,
   "id": "72096b4d",
   "metadata": {},
   "outputs": [
    {
     "data": {
      "text/html": [
       "<div>\n",
       "<style scoped>\n",
       "    .dataframe tbody tr th:only-of-type {\n",
       "        vertical-align: middle;\n",
       "    }\n",
       "\n",
       "    .dataframe tbody tr th {\n",
       "        vertical-align: top;\n",
       "    }\n",
       "\n",
       "    .dataframe thead th {\n",
       "        text-align: right;\n",
       "    }\n",
       "</style>\n",
       "<table border=\"1\" class=\"dataframe\">\n",
       "  <thead>\n",
       "    <tr style=\"text-align: right;\">\n",
       "      <th></th>\n",
       "      <th>VIF</th>\n",
       "    </tr>\n",
       "  </thead>\n",
       "  <tbody>\n",
       "    <tr>\n",
       "      <th>I(totwrk / 100)</th>\n",
       "      <td>8.370495</td>\n",
       "    </tr>\n",
       "    <tr>\n",
       "      <th>I(totwrk ** 2 / 10000)</th>\n",
       "      <td>8.199290</td>\n",
       "    </tr>\n",
       "    <tr>\n",
       "      <th>age</th>\n",
       "      <td>1.005968</td>\n",
       "    </tr>\n",
       "    <tr>\n",
       "      <th>smsa</th>\n",
       "      <td>1.004459</td>\n",
       "    </tr>\n",
       "    <tr>\n",
       "      <th>male</th>\n",
       "      <td>1.169198</td>\n",
       "    </tr>\n",
       "  </tbody>\n",
       "</table>\n",
       "</div>"
      ],
      "text/plain": [
       "                             VIF\n",
       "I(totwrk / 100)         8.370495\n",
       "I(totwrk ** 2 / 10000)  8.199290\n",
       "age                     1.005968\n",
       "smsa                    1.004459\n",
       "male                    1.169198"
      ]
     },
     "execution_count": 21,
     "metadata": {},
     "output_type": "execute_result"
    }
   ],
   "source": [
    "VIFS = pd.DataFrame({'VIF': [variance_inflation_factor(Sleep_eq12.model.exog, i) for i in range(int(Sleep_eq12.df_model+1))]}, index=Sleep_eq12.model.exog_names)\n",
    "VIFS.drop(index='Intercept', inplace=True)\n",
    "VIFS"
   ]
  },
  {
   "cell_type": "code",
   "execution_count": 22,
   "id": "9cc98f8a",
   "metadata": {},
   "outputs": [
    {
     "data": {
      "text/html": [
       "<div>\n",
       "<style scoped>\n",
       "    .dataframe tbody tr th:only-of-type {\n",
       "        vertical-align: middle;\n",
       "    }\n",
       "\n",
       "    .dataframe tbody tr th {\n",
       "        vertical-align: top;\n",
       "    }\n",
       "\n",
       "    .dataframe thead th {\n",
       "        text-align: right;\n",
       "    }\n",
       "</style>\n",
       "<table border=\"1\" class=\"dataframe\">\n",
       "  <thead>\n",
       "    <tr style=\"text-align: right;\">\n",
       "      <th></th>\n",
       "      <th>male</th>\n",
       "      <th>age</th>\n",
       "      <th>smsa</th>\n",
       "      <th>I(totwrk / 100)</th>\n",
       "      <th>I(totwrk ** 2 / 10000)</th>\n",
       "    </tr>\n",
       "  </thead>\n",
       "  <tbody>\n",
       "    <tr>\n",
       "      <th>male</th>\n",
       "      <td>1.000</td>\n",
       "      <td>0.032</td>\n",
       "      <td>0.007</td>\n",
       "      <td>0.376</td>\n",
       "      <td>0.351</td>\n",
       "    </tr>\n",
       "    <tr>\n",
       "      <th>age</th>\n",
       "      <td>0.032</td>\n",
       "      <td>1.000</td>\n",
       "      <td>0.025</td>\n",
       "      <td>-0.050</td>\n",
       "      <td>-0.046</td>\n",
       "    </tr>\n",
       "    <tr>\n",
       "      <th>smsa</th>\n",
       "      <td>0.007</td>\n",
       "      <td>0.025</td>\n",
       "      <td>1.000</td>\n",
       "      <td>-0.038</td>\n",
       "      <td>-0.051</td>\n",
       "    </tr>\n",
       "    <tr>\n",
       "      <th>I(totwrk / 100)</th>\n",
       "      <td>0.376</td>\n",
       "      <td>-0.050</td>\n",
       "      <td>-0.038</td>\n",
       "      <td>1.000</td>\n",
       "      <td>0.937</td>\n",
       "    </tr>\n",
       "    <tr>\n",
       "      <th>I(totwrk ** 2 / 10000)</th>\n",
       "      <td>0.351</td>\n",
       "      <td>-0.046</td>\n",
       "      <td>-0.051</td>\n",
       "      <td>0.937</td>\n",
       "      <td>1.000</td>\n",
       "    </tr>\n",
       "  </tbody>\n",
       "</table>\n",
       "</div>"
      ],
      "text/plain": [
       "                         male    age   smsa  I(totwrk / 100)  \\\n",
       "male                    1.000  0.032  0.007            0.376   \n",
       "age                     0.032  1.000  0.025           -0.050   \n",
       "smsa                    0.007  0.025  1.000           -0.038   \n",
       "I(totwrk / 100)         0.376 -0.050 -0.038            1.000   \n",
       "I(totwrk ** 2 / 10000)  0.351 -0.046 -0.051            0.937   \n",
       "\n",
       "                        I(totwrk ** 2 / 10000)  \n",
       "male                                     0.351  \n",
       "age                                     -0.046  \n",
       "smsa                                    -0.051  \n",
       "I(totwrk / 100)                          0.937  \n",
       "I(totwrk ** 2 / 10000)                   1.000  "
      ]
     },
     "execution_count": 22,
     "metadata": {},
     "output_type": "execute_result"
    }
   ],
   "source": [
    "df_sleep = data_sleep[['male', 'age', 'smsa']].copy()\n",
    "df_sleep['I(totwrk / 100)'] = data_sleep['totwrk']/100\n",
    "df_sleep['I(totwrk ** 2 / 10000)'] = (data_sleep['totwrk']**2)/10000\n",
    "corr_matrix = df_sleep.corr().round(3)\n",
    "corr_matrix"
   ]
  },
  {
   "cell_type": "code",
   "execution_count": 28,
   "id": "f5a5ab76",
   "metadata": {},
   "outputs": [
    {
     "data": {
      "image/png": "[encoded data removed]",
      "text/plain": [
       "<Figure size 640x480 with 2 Axes>"
      ]
     },
     "metadata": {},
     "output_type": "display_data"
    }
   ],
   "source": [
    "sm.graphics.plot_corr(corr_matrix, xnames=df_sleep.columns, normcolor=True, cmap='cool')\n",
    "plt.show()"
   ]
  },
  {
   "cell_type": "code",
   "execution_count": 29,
   "id": "6c1067e9",
   "metadata": {},
   "outputs": [
    {
     "data": {
      "text/plain": [
       "Text(0.5, 1.0, 'Correlation Matrix')"
      ]
     },
     "execution_count": 29,
     "metadata": {},
     "output_type": "execute_result"
    },
    {
     "data": {
      "image/png": "[encoded data removed]",
      "text/plain": [
       "<Figure size 640x480 with 2 Axes>"
      ]
     },
     "metadata": {},
     "output_type": "display_data"
    }
   ],
   "source": [
    "sns.heatmap(corr_matrix, annot=True, fmt='.3g', vmin=-1, vmax=1, center=0, cmap='cool', \n",
    "            square=True, linewidths=1, linecolor='white')\n",
    "plt.title('Correlation Matrix', loc='center', color='cyan', size=14, weight='bold')"
   ]
  },
  {
   "cell_type": "markdown",
   "id": "0f8f56ca",
   "metadata": {},
   "source": [
    "# 2 sleep equation #2"
   ]
  },
  {
   "cell_type": "code",
   "execution_count": 76,
   "id": "dd7672cd",
   "metadata": {},
   "outputs": [],
   "source": [
    "data_sleep = pd.read_csv('https://raw.githubusercontent.com/artamonoff/Econometrica/master/python-notebooks/data-csv/sleep75.csv')\n",
    "data_sleep['totwrk2_10000'] = data_sleep['totwrk']**2/10000"
   ]
  },
  {
   "cell_type": "code",
   "execution_count": 77,
   "id": "2a459d21",
   "metadata": {},
   "outputs": [],
   "source": [
    "Sleep_eq11 = smf.ols(formula = 'sleep~I(totwrk/100)+I(totwrk**2/10000)+age+smsa+male', data = data_sleep).fit()"
   ]
  },
  {
   "cell_type": "code",
   "execution_count": 78,
   "id": "faf50294",
   "metadata": {},
   "outputs": [],
   "source": [
    "model_11 = smf.ols(formula = 'age~totwrk+age+smsa+male+south', data = data_sleep).fit()"
   ]
  },
  {
   "cell_type": "code",
   "execution_count": 79,
   "id": "2579a4a2",
   "metadata": {},
   "outputs": [],
   "source": [
    "model_12 = smf.ols(formula = 'age**2~totwrk+age+smsa+male+south', data = data_sleep).fit()"
   ]
  },
  {
   "cell_type": "code",
   "execution_count": 80,
   "id": "d05e788e",
   "metadata": {},
   "outputs": [],
   "source": [
    "model_13 = smf.ols(formula = 'male~totwrk+age+age**2+smsa+south', data = data_sleep).fit()"
   ]
  },
  {
   "cell_type": "code",
   "execution_count": 81,
   "id": "70c9774e",
   "metadata": {},
   "outputs": [
    {
     "data": {
      "text/plain": [
       "<bound method Series.round of Intercept    7.371881e-14\n",
       "totwrk      -1.236966e-15\n",
       "age          1.000000e+00\n",
       "smsa        -4.218847e-15\n",
       "male        -3.108624e-15\n",
       "south        4.440892e-16\n",
       "dtype: float64>"
      ]
     },
     "execution_count": 81,
     "metadata": {},
     "output_type": "execute_result"
    }
   ],
   "source": [
    "model_11.params.round"
   ]
  },
  {
   "cell_type": "code",
   "execution_count": 82,
   "id": "bfff8c5e",
   "metadata": {},
   "outputs": [
    {
     "name": "stderr",
     "output_type": "stream",
     "text": [
      "/var/folders/4m/tcsh4cm95w30hhv5sn63n2dw0000gn/T/ipykernel_36687/4124883484.py:1: RuntimeWarning: divide by zero encountered in double_scalars\n",
      "  VIF_age=1/(1-model_11.rsquared)\n"
     ]
    },
    {
     "data": {
      "text/plain": [
       "inf"
      ]
     },
     "execution_count": 82,
     "metadata": {},
     "output_type": "execute_result"
    }
   ],
   "source": [
    "VIF_age=1/(1-model_11.rsquared)\n",
    "VIF_age"
   ]
  },
  {
   "cell_type": "code",
   "execution_count": null,
   "id": "3e558d1e",
   "metadata": {},
   "outputs": [],
   "source": []
  },
  {
   "cell_type": "code",
   "execution_count": null,
   "id": "02ba2bea",
   "metadata": {},
   "outputs": [],
   "source": []
  },
  {
   "cell_type": "markdown",
   "id": "f275df68",
   "metadata": {},
   "source": [
    "# 3 sleep equation #3"
   ]
  },
  {
   "cell_type": "code",
   "execution_count": 90,
   "id": "aa34c202",
   "metadata": {},
   "outputs": [],
   "source": [
    "data_sleep = pd.read_csv('https://raw.githubusercontent.com/artamonoff/Econometrica/master/python-notebooks/data-csv/sleep75.csv')\n"
   ]
  },
  {
   "cell_type": "code",
   "execution_count": 91,
   "id": "8faa28bf",
   "metadata": {},
   "outputs": [
    {
     "ename": "ValueError",
     "evalue": "endog has evaluated to an array with multiple columns that has shape (706, 3). This occurs when the variable converted to endog is non-numeric (e.g., bool or str).",
     "output_type": "error",
     "traceback": [
      "\u001b[0;31m---------------------------------------------------------------------------\u001b[0m",
      "\u001b[0;31mValueError\u001b[0m                                Traceback (most recent call last)",
      "\u001b[0;32m/var/folders/4m/tcsh4cm95w30hhv5sn63n2dw0000gn/T/ipykernel_36687/2061737220.py\u001b[0m in \u001b[0;36m<module>\u001b[0;34m\u001b[0m\n\u001b[1;32m      2\u001b[0m \u001b[0mmodel_1\u001b[0m \u001b[0;34m=\u001b[0m \u001b[0msmf\u001b[0m\u001b[0;34m.\u001b[0m\u001b[0mols\u001b[0m\u001b[0;34m(\u001b[0m\u001b[0mdata\u001b[0m \u001b[0;34m=\u001b[0m \u001b[0mdata_sleep\u001b[0m \u001b[0;34m,\u001b[0m \u001b[0mformula\u001b[0m \u001b[0;34m=\u001b[0m \u001b[0;34m'totwrk~south+totwrk+south+age+male+smsa'\u001b[0m\u001b[0;34m)\u001b[0m\u001b[0;34m.\u001b[0m\u001b[0mfit\u001b[0m\u001b[0;34m(\u001b[0m\u001b[0;34m)\u001b[0m\u001b[0;34m\u001b[0m\u001b[0;34m\u001b[0m\u001b[0m\n\u001b[1;32m      3\u001b[0m \u001b[0mmodel_2\u001b[0m \u001b[0;34m=\u001b[0m \u001b[0msmf\u001b[0m\u001b[0;34m.\u001b[0m\u001b[0mols\u001b[0m\u001b[0;34m(\u001b[0m\u001b[0mdata\u001b[0m \u001b[0;34m=\u001b[0m \u001b[0mdata_sleep\u001b[0m \u001b[0;34m,\u001b[0m \u001b[0mformula\u001b[0m \u001b[0;34m=\u001b[0m \u001b[0;34m'south~totwrk+totwrk+south+age+male+smsa'\u001b[0m\u001b[0;34m)\u001b[0m\u001b[0;34m.\u001b[0m\u001b[0mfit\u001b[0m\u001b[0;34m(\u001b[0m\u001b[0;34m)\u001b[0m\u001b[0;34m\u001b[0m\u001b[0;34m\u001b[0m\u001b[0m\n\u001b[0;32m----> 4\u001b[0;31m \u001b[0mmodel_3\u001b[0m \u001b[0;34m=\u001b[0m \u001b[0msmf\u001b[0m\u001b[0;34m.\u001b[0m\u001b[0mols\u001b[0m\u001b[0;34m(\u001b[0m\u001b[0mdata\u001b[0m \u001b[0;34m=\u001b[0m \u001b[0mdata_sleep\u001b[0m \u001b[0;34m,\u001b[0m \u001b[0mformula\u001b[0m \u001b[0;34m=\u001b[0m \u001b[0;34m'totwrk*south~totwrk+totwrk+south+age+male+smsa'\u001b[0m\u001b[0;34m)\u001b[0m\u001b[0;34m.\u001b[0m\u001b[0mfit\u001b[0m\u001b[0;34m(\u001b[0m\u001b[0;34m)\u001b[0m\u001b[0;34m\u001b[0m\u001b[0;34m\u001b[0m\u001b[0m\n\u001b[0m\u001b[1;32m      5\u001b[0m \u001b[0mmodel_1\u001b[0m\u001b[0;34m.\u001b[0m\u001b[0mparams\u001b[0m\u001b[0;34m.\u001b[0m\u001b[0mround\u001b[0m\u001b[0;34m(\u001b[0m\u001b[0;36m3\u001b[0m\u001b[0;34m)\u001b[0m\u001b[0;34m\u001b[0m\u001b[0;34m\u001b[0m\u001b[0m\n",
      "\u001b[0;32m~/opt/anaconda3/lib/python3.9/site-packages/statsmodels/base/model.py\u001b[0m in \u001b[0;36mfrom_formula\u001b[0;34m(cls, formula, data, subset, drop_cols, *args, **kwargs)\u001b[0m\n\u001b[1;32m    204\u001b[0m         if (max_endog is not None and\n\u001b[1;32m    205\u001b[0m                 endog.ndim > 1 and endog.shape[1] > max_endog):\n\u001b[0;32m--> 206\u001b[0;31m             raise ValueError('endog has evaluated to an array with multiple '\n\u001b[0m\u001b[1;32m    207\u001b[0m                              \u001b[0;34m'columns that has shape {0}. This occurs when '\u001b[0m\u001b[0;34m\u001b[0m\u001b[0;34m\u001b[0m\u001b[0m\n\u001b[1;32m    208\u001b[0m                              \u001b[0;34m'the variable converted to endog is non-numeric'\u001b[0m\u001b[0;34m\u001b[0m\u001b[0;34m\u001b[0m\u001b[0m\n",
      "\u001b[0;31mValueError\u001b[0m: endog has evaluated to an array with multiple columns that has shape (706, 3). This occurs when the variable converted to endog is non-numeric (e.g., bool or str)."
     ]
    }
   ],
   "source": [
    "model = smf.ols(data = data_sleep , formula = 'sleep~totwrk+south+totwrk*south+age+male+smsa').fit() #main\n",
    "model_1 = smf.ols(data = data_sleep , formula = 'totwrk~south+totwrk+south+age+male+smsa').fit()\n",
    "model_2 = smf.ols(data = data_sleep , formula = 'south~totwrk+totwrk+south+age+male+smsa').fit()\n",
    "model_3 = smf.ols(data = data_sleep , formula = 'totwrk*south~totwrk+totwrk+south+age+male+smsa').fit()\n",
    "model_1.params.round(3)"
   ]
  },
  {
   "cell_type": "code",
   "execution_count": null,
   "id": "34dfd057",
   "metadata": {},
   "outputs": [],
   "source": []
  },
  {
   "cell_type": "code",
   "execution_count": null,
   "id": "9f3a8750",
   "metadata": {},
   "outputs": [],
   "source": []
  }
 ],
 "metadata": {
  "kernelspec": {
   "display_name": "Python 3 (ipykernel)",
   "language": "python",
   "name": "python3"
  },
  "language_info": {
   "codemirror_mode": {
    "name": "ipython",
    "version": 3
   },
   "file_extension": ".py",
   "mimetype": "text/x-python",
   "name": "python",
   "nbconvert_exporter": "python",
   "pygments_lexer": "ipython3",
   "version": "3.9.13"
  }
 },
 "nbformat": 4,
 "nbformat_minor": 5
}
